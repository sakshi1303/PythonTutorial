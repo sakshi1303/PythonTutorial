{
 "cells": [
  {
   "cell_type": "code",
   "execution_count": 1,
   "metadata": {},
   "outputs": [],
   "source": [
    "import logging\n",
    "import random\n",
    "import threading\n",
    "import time"
   ]
  },
  {
   "cell_type": "code",
   "execution_count": 2,
   "metadata": {},
   "outputs": [],
   "source": [
    "logging.basicConfig(level=logging.DEBUG,\n",
    "                    format='%(asctime)s (%(threadName)-2s) %(message)s',\n",
    "                    )"
   ]
  },
  {
   "cell_type": "code",
   "execution_count": 4,
   "metadata": {},
   "outputs": [],
   "source": [
    "class ActivePool(object):\n",
    "    def __init__(self):\n",
    "        super(ActivePool, self).__init__()\n",
    "        self.active = []\n",
    "        self.lock = threading.Lock()\n",
    "    \n",
    "    def makeActive(self, name):\n",
    "        with self.lock:\n",
    "            self.active.append(name)\n",
    "            logging.debug('Running: %s', self.active)\n",
    "    \n",
    "    def makeInactive(self, name):\n",
    "        with self.lock:\n",
    "            self.active.append(name)\n",
    "            logging.debug('Running: %s', self.active)"
   ]
  },
  {
   "cell_type": "code",
   "execution_count": 5,
   "metadata": {},
   "outputs": [],
   "source": [
    "def worker(s, pool):\n",
    "    logging.debug('Waiting to join the pool')\n",
    "    with s:\n",
    "        name = threading.currentThread().getName()\n",
    "        pool.makeActive(name)\n",
    "        time.sleep(0.1)\n",
    "        pool.makeInactive(name)"
   ]
  },
  {
   "cell_type": "code",
   "execution_count": 6,
   "metadata": {},
   "outputs": [
    {
     "name": "stderr",
     "output_type": "stream",
     "text": [
      "2020-06-20 15:49:57,958 (0 ) Waiting to join the pool\n",
      "2020-06-20 15:49:57,973 (0 ) Running: ['0']\n",
      "2020-06-20 15:49:57,973 (1 ) Waiting to join the pool\n",
      "2020-06-20 15:49:57,989 (1 ) Running: ['0', '1']\n",
      "2020-06-20 15:49:57,989 (2 ) Waiting to join the pool\n",
      "2020-06-20 15:49:58,098 (0 ) Running: ['0', '1', '0']\n",
      "2020-06-20 15:49:58,114 (2 ) Running: ['0', '1', '0', '2']\n",
      "2020-06-20 15:49:58,141 (1 ) Running: ['0', '1', '0', '2', '1']\n",
      "2020-06-20 15:49:58,234 (2 ) Running: ['0', '1', '0', '2', '1', '2']\n"
     ]
    }
   ],
   "source": [
    "pool = ActivePool()\n",
    "s = threading.Semaphore(2)\n",
    "for i in range(3):\n",
    "    t = threading.Thread(target=worker, name=str(i), args=(s, pool))\n",
    "    t.start()"
   ]
  },
  {
   "cell_type": "code",
   "execution_count": null,
   "metadata": {},
   "outputs": [],
   "source": []
  }
 ],
 "metadata": {
  "kernelspec": {
   "display_name": "Python 3",
   "language": "python",
   "name": "python3"
  },
  "language_info": {
   "codemirror_mode": {
    "name": "ipython",
    "version": 3
   },
   "file_extension": ".py",
   "mimetype": "text/x-python",
   "name": "python",
   "nbconvert_exporter": "python",
   "pygments_lexer": "ipython3",
   "version": "3.6.5"
  }
 },
 "nbformat": 4,
 "nbformat_minor": 2
}
