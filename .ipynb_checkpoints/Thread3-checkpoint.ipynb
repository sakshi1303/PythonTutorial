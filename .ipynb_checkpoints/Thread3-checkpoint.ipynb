{
 "cells": [
  {
   "cell_type": "code",
   "execution_count": 1,
   "metadata": {},
   "outputs": [],
   "source": [
    "import threading\n",
    "import logging"
   ]
  },
  {
   "cell_type": "code",
   "execution_count": 2,
   "metadata": {},
   "outputs": [],
   "source": [
    "logging.basicConfig(level=logging.DEBUG,\n",
    "                    format='(%(threadName)-10s) %(message)s',\n",
    "                    )"
   ]
  },
  {
   "cell_type": "code",
   "execution_count": 5,
   "metadata": {},
   "outputs": [
    {
     "name": "stderr",
     "output_type": "stream",
     "text": [
      "(Thread-11 ) running\n",
      "(Thread-11 ) ending\n",
      "(Thread-12 ) running\n",
      "(Thread-12 ) ending\n",
      "(Thread-14 ) running\n",
      "(Thread-15 ) running\n",
      "(Thread-13 ) running\n",
      "(Thread-14 ) ending\n",
      "(Thread-15 ) ending\n",
      "(Thread-13 ) ending\n"
     ]
    }
   ],
   "source": [
    "class MyThread(threading.Thread):\n",
    "    \n",
    "    def run(self):\n",
    "        logging.debug('running')\n",
    "        logging.debug('ending')\n",
    "        return\n",
    "    \n",
    "for i in range(5):\n",
    "    t = MyThread()\n",
    "    t.start()"
   ]
  },
  {
   "cell_type": "code",
   "execution_count": null,
   "metadata": {},
   "outputs": [],
   "source": []
  }
 ],
 "metadata": {
  "kernelspec": {
   "display_name": "Python 3",
   "language": "python",
   "name": "python3"
  },
  "language_info": {
   "codemirror_mode": {
    "name": "ipython",
    "version": 3
   },
   "file_extension": ".py",
   "mimetype": "text/x-python",
   "name": "python",
   "nbconvert_exporter": "python",
   "pygments_lexer": "ipython3",
   "version": "3.6.5"
  }
 },
 "nbformat": 4,
 "nbformat_minor": 2
}
