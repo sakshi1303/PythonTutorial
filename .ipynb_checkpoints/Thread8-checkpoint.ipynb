{
 "cells": [
  {
   "cell_type": "code",
   "execution_count": 1,
   "metadata": {},
   "outputs": [],
   "source": [
    "import logging\n",
    "import threading\n",
    "import time"
   ]
  },
  {
   "cell_type": "code",
   "execution_count": 2,
   "metadata": {},
   "outputs": [],
   "source": [
    "logging.basicConfig(level=logging.DEBUG,\n",
    "                    format='%(asctime)s (%(threadName)-2s) %(message)s',\n",
    "                    )"
   ]
  },
  {
   "cell_type": "code",
   "execution_count": 3,
   "metadata": {},
   "outputs": [],
   "source": [
    "def consumer(cond):\n",
    "    logging.debug('Starting Consumer Thread')\n",
    "    t = threading.currentThread()\n",
    "    with cond:\n",
    "        cond.wait()\n",
    "        logging.debug('Resource is available to consumer')"
   ]
  },
  {
   "cell_type": "code",
   "execution_count": 4,
   "metadata": {},
   "outputs": [],
   "source": [
    "def producer(cond):\n",
    "    logging.debug('Starting Producer Thread')\n",
    "    with cond:\n",
    "        logging.debug('Making resource available')\n",
    "        cond.notifyAll()"
   ]
  },
  {
   "cell_type": "code",
   "execution_count": 5,
   "metadata": {},
   "outputs": [],
   "source": [
    "condition = threading.Condition()\n",
    "c1 = threading.Thread(name='c1', target=consumer,args=(condition,))\n",
    "c2 = threading.Thread(name='c2', target=consumer,args=(condition,))\n",
    "p = threading.Thread(name='p', target=producer,args=(condition,))"
   ]
  },
  {
   "cell_type": "code",
   "execution_count": 6,
   "metadata": {},
   "outputs": [
    {
     "name": "stderr",
     "output_type": "stream",
     "text": [
      "2020-06-20 15:40:13,437 (c1) Starting Consumer Thread\n",
      "2020-06-20 15:40:15,468 (c2) Starting Consumer Thread\n",
      "2020-06-20 15:40:17,483 (p ) Starting Producer Thread\n",
      "2020-06-20 15:40:17,483 (p ) Making resource available\n",
      "2020-06-20 15:40:17,483 (c1) Resource is available to consumer\n",
      "2020-06-20 15:40:17,483 (c2) Resource is available to consumer\n"
     ]
    }
   ],
   "source": [
    "c1.start()\n",
    "time.sleep(2)\n",
    "c2.start()\n",
    "time.sleep(2)\n",
    "p.start()"
   ]
  }
 ],
 "metadata": {
  "kernelspec": {
   "display_name": "Python 3",
   "language": "python",
   "name": "python3"
  },
  "language_info": {
   "codemirror_mode": {
    "name": "ipython",
    "version": 3
   },
   "file_extension": ".py",
   "mimetype": "text/x-python",
   "name": "python",
   "nbconvert_exporter": "python",
   "pygments_lexer": "ipython3",
   "version": "3.6.5"
  }
 },
 "nbformat": 4,
 "nbformat_minor": 2
}
