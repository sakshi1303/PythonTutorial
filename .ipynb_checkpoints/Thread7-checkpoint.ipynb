{
 "cells": [
  {
   "cell_type": "code",
   "execution_count": 1,
   "metadata": {},
   "outputs": [],
   "source": [
    "import logging\n",
    "import threading\n",
    "import time"
   ]
  },
  {
   "cell_type": "code",
   "execution_count": 2,
   "metadata": {},
   "outputs": [],
   "source": [
    "logging.basicConfig(level=logging.DEBUG,\n",
    "                    format='(%(threadName)-10s) %(message)s',\n",
    "                    )"
   ]
  },
  {
   "cell_type": "code",
   "execution_count": 3,
   "metadata": {},
   "outputs": [],
   "source": [
    "def lock_holder(lock):\n",
    "    logging.debug('Starting')\n",
    "    while True:\n",
    "        lock.acquire()\n",
    "        try:\n",
    "            logging.debug('Holding')\n",
    "            time.sleep(0.5)\n",
    "        finally:\n",
    "            logging.debug('Not holding')\n",
    "            lock.release()\n",
    "        time.sleep(0.5)\n",
    "    return"
   ]
  },
  {
   "cell_type": "code",
   "execution_count": 4,
   "metadata": {},
   "outputs": [],
   "source": [
    "def worker(lock):\n",
    "    logging.debug('Starting')\n",
    "    num_tries = 0\n",
    "    num_acquires = 0\n",
    "    while num_acquires < 3:\n",
    "        time.sleep(0.5)\n",
    "        logging.debug('Trying to acquire')\n",
    "        have_it = lock.acquire(0)\n",
    "        try:\n",
    "            num_tries += 1\n",
    "            if have_it:\n",
    "                logging.debug('Iteration %d: Acquired',  num_tries)\n",
    "                num_acquires += 1\n",
    "            else:\n",
    "                logging.debug('Iteration %d: Not acquired', num_tries)\n",
    "        finally:\n",
    "            if have_it:\n",
    "                lock.release()\n",
    "    logging.debug('Done after %d iterations', num_tries)"
   ]
  },
  {
   "cell_type": "code",
   "execution_count": 5,
   "metadata": {},
   "outputs": [
    {
     "name": "stderr",
     "output_type": "stream",
     "text": [
      "(LockHolder) Starting\n",
      "(LockHolder) Holding\n"
     ]
    },
    {
     "ename": "AttributeError",
     "evalue": "'Thread' object has no attribute 'stop'",
     "output_type": "error",
     "traceback": [
      "\u001b[1;31m---------------------------------------------------------------------------\u001b[0m",
      "\u001b[1;31mAttributeError\u001b[0m                            Traceback (most recent call last)",
      "\u001b[1;32m<ipython-input-5-d2baa4733294>\u001b[0m in \u001b[0;36m<module>\u001b[1;34m()\u001b[0m\n\u001b[0;32m      4\u001b[0m \u001b[1;31m##holder.setDaemon(True)\u001b[0m\u001b[1;33m\u001b[0m\u001b[1;33m\u001b[0m\u001b[0m\n\u001b[0;32m      5\u001b[0m \u001b[0mholder\u001b[0m\u001b[1;33m.\u001b[0m\u001b[0mstart\u001b[0m\u001b[1;33m(\u001b[0m\u001b[1;33m)\u001b[0m\u001b[1;33m\u001b[0m\u001b[0m\n\u001b[1;32m----> 6\u001b[1;33m \u001b[0mholder\u001b[0m\u001b[1;33m.\u001b[0m\u001b[0mstop\u001b[0m\u001b[1;33m(\u001b[0m\u001b[1;33m)\u001b[0m\u001b[1;33m\u001b[0m\u001b[0m\n\u001b[0m\u001b[0;32m      7\u001b[0m \u001b[1;33m\u001b[0m\u001b[0m\n\u001b[0;32m      8\u001b[0m \u001b[0mworker\u001b[0m \u001b[1;33m=\u001b[0m \u001b[0mthreading\u001b[0m\u001b[1;33m.\u001b[0m\u001b[0mThread\u001b[0m\u001b[1;33m(\u001b[0m\u001b[0mtarget\u001b[0m\u001b[1;33m=\u001b[0m\u001b[0mworker\u001b[0m\u001b[1;33m,\u001b[0m \u001b[0margs\u001b[0m\u001b[1;33m=\u001b[0m\u001b[1;33m(\u001b[0m\u001b[0mlock\u001b[0m\u001b[1;33m,\u001b[0m\u001b[1;33m)\u001b[0m\u001b[1;33m,\u001b[0m \u001b[0mname\u001b[0m\u001b[1;33m=\u001b[0m\u001b[1;34m'Worker'\u001b[0m\u001b[1;33m)\u001b[0m\u001b[1;33m\u001b[0m\u001b[0m\n",
      "\u001b[1;31mAttributeError\u001b[0m: 'Thread' object has no attribute 'stop'"
     ]
    },
    {
     "name": "stderr",
     "output_type": "stream",
     "text": [
      "(LockHolder) Not holding\n",
      "(LockHolder) Holding\n",
      "(LockHolder) Not holding\n",
      "(LockHolder) Holding\n",
      "(LockHolder) Not holding\n",
      "(LockHolder) Holding\n",
      "(LockHolder) Not holding\n",
      "(LockHolder) Holding\n",
      "(LockHolder) Not holding\n",
      "(LockHolder) Holding\n",
      "(LockHolder) Not holding\n",
      "(LockHolder) Holding\n",
      "(LockHolder) Not holding\n",
      "(LockHolder) Holding\n",
      "(LockHolder) Not holding\n",
      "(LockHolder) Holding\n",
      "(LockHolder) Not holding\n",
      "(LockHolder) Holding\n",
      "(LockHolder) Not holding\n",
      "(LockHolder) Holding\n",
      "(LockHolder) Not holding\n",
      "(LockHolder) Holding\n",
      "(LockHolder) Not holding\n",
      "(LockHolder) Holding\n",
      "(LockHolder) Not holding\n",
      "(LockHolder) Holding\n",
      "(LockHolder) Not holding\n",
      "(LockHolder) Holding\n",
      "(LockHolder) Not holding\n",
      "(LockHolder) Holding\n",
      "(LockHolder) Not holding\n",
      "(LockHolder) Holding\n",
      "(LockHolder) Not holding\n",
      "(LockHolder) Holding\n",
      "(LockHolder) Not holding\n",
      "(LockHolder) Holding\n",
      "(LockHolder) Not holding\n",
      "(LockHolder) Holding\n",
      "(LockHolder) Not holding\n",
      "(LockHolder) Holding\n",
      "(LockHolder) Not holding\n",
      "(LockHolder) Holding\n",
      "(LockHolder) Not holding\n"
     ]
    }
   ],
   "source": [
    "lock = threading.Lock()\n",
    "\n",
    "holder = threading.Thread(target=lock_holder, args=(lock,), name='LockHolder')\n",
    "holder.setDaemon(True)\n",
    "holder.start()\n",
    "\n",
    "worker = threading.Thread(target=worker, args=(lock,), name='Worker')\n",
    "worker.start()"
   ]
  },
  {
   "cell_type": "code",
   "execution_count": null,
   "metadata": {},
   "outputs": [],
   "source": []
  }
 ],
 "metadata": {
  "kernelspec": {
   "display_name": "Python 3",
   "language": "python",
   "name": "python3"
  },
  "language_info": {
   "codemirror_mode": {
    "name": "ipython",
    "version": 3
   },
   "file_extension": ".py",
   "mimetype": "text/x-python",
   "name": "python",
   "nbconvert_exporter": "python",
   "pygments_lexer": "ipython3",
   "version": "3.6.5"
  }
 },
 "nbformat": 4,
 "nbformat_minor": 2
}
