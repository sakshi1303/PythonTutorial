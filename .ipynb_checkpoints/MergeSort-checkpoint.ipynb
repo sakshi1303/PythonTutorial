{
 "cells": [
  {
   "cell_type": "code",
   "execution_count": null,
   "metadata": {},
   "outputs": [],
   "source": [
    "def mergesort(arr,p,r):\n",
    "    if p<r:\n",
    "        q=(p+r)//2\n",
    "        mergesort(arr,p,q)\n",
    "        mergesort(arr,q+1,r)\n",
    "        merge(arr,p,q,r)"
   ]
  },
  {
   "cell_type": "code",
   "execution_count": null,
   "metadata": {},
   "outputs": [],
   "source": [
    "def merge(arr,p,q,r):\n",
    "    L=arr[p:q+1]\n",
    "    R=arr[q+1:r+1]\n",
    "    L.append(math.inf)\n",
    "    R.append(math.inf)\n",
    "    i,j=0,0\n",
    "    for k in range(p,r+1):\n",
    "        if L[i] <= R[j]:\n",
    "            arr[k] = L[i]\n",
    "            i=i+1\n",
    "        else:\n",
    "            arr[k] = R[j]\n",
    "            j=j+1"
   ]
  },
  {
   "cell_type": "code",
   "execution_count": null,
   "metadata": {},
   "outputs": [],
   "source": [
    "import math\n",
    "arr=[7,9,5,1,4]\n",
    "p=0\n",
    "r=len(arr)-1\n",
    "mergesort(arr,p,r)\n",
    "print(arr)"
   ]
  }
 ],
 "metadata": {
  "kernelspec": {
   "display_name": "Python 3",
   "language": "python",
   "name": "python3"
  },
  "language_info": {
   "codemirror_mode": {
    "name": "ipython",
    "version": 3
   },
   "file_extension": ".py",
   "mimetype": "text/x-python",
   "name": "python",
   "nbconvert_exporter": "python",
   "pygments_lexer": "ipython3",
   "version": "3.6.5"
  }
 },
 "nbformat": 4,
 "nbformat_minor": 2
}
