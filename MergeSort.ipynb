{
 "cells": [
  {
   "cell_type": "code",
   "execution_count": null,
   "metadata": {},
   "outputs": [],
   "source": [
    "def mergesort(arr,p,r):\n",
    "    if p<r:\n",
    "        q=(p+r)//2\n",
    "        mergesort(arr,p,q)\n",
    "        mergesort(arr,q+1,r)\n",
    "        merge(arr,p,q,r)"
   ]
  }
 ],
 "metadata": {
  "kernelspec": {
   "display_name": "Python 3",
   "language": "python",
   "name": "python3"
  },
  "language_info": {
   "name": ""
  }
 },
 "nbformat": 4,
 "nbformat_minor": 2
}
