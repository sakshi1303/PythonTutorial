{
 "cells": [
  {
   "cell_type": "code",
   "execution_count": 8,
   "metadata": {},
   "outputs": [],
   "source": [
    "import threading\n",
    "import time"
   ]
  },
  {
   "cell_type": "code",
   "execution_count": 9,
   "metadata": {},
   "outputs": [],
   "source": [
    "def worker(num):\n",
    "    print(threading.currentThread().getName(), 'Starting')\n",
    "    print('Worker: %s' % num)\n",
    "    return"
   ]
  },
  {
   "cell_type": "code",
   "execution_count": 10,
   "metadata": {},
   "outputs": [
    {
     "name": "stdout",
     "output_type": "stream",
     "text": [
      "Thread-21 Starting\n",
      "Worker: 0\n",
      "Thread-22 Starting\n",
      "Worker: 1\n",
      "Thread-23 Starting\n",
      "Worker: 2\n",
      "Thread-24 Starting\n",
      "Worker: 3\n",
      "Thread-25 Starting\n",
      "Worker: 4\n"
     ]
    }
   ],
   "source": [
    "threads = []\n",
    "for i in range(5):\n",
    "    t = threading.Thread(target=worker, args=(i,))\n",
    "    threads.append(t)\n",
    "    t.start()"
   ]
  },
  {
   "cell_type": "code",
   "execution_count": 11,
   "metadata": {},
   "outputs": [],
   "source": [
    "def worker(i):\n",
    "    print(threading.currentThread().getName(), 'Starting')\n",
    "    time.sleep(i)\n",
    "    print(threading.currentThread().getName(), 'Exiting')"
   ]
  },
  {
   "cell_type": "code",
   "execution_count": 12,
   "metadata": {},
   "outputs": [],
   "source": [
    "def my_service(i):\n",
    "    print(threading.currentThread().getName(), 'Starting')\n",
    "    time.sleep(i)\n",
    "    print(threading.currentThread().getName(), 'Exiting')"
   ]
  },
  {
   "cell_type": "code",
   "execution_count": 15,
   "metadata": {},
   "outputs": [
    {
     "name": "stdout",
     "output_type": "stream",
     "text": [
      "worker Starting\n",
      "Thread-28 Starting\n",
      "my_service Starting\n",
      "my_service Exiting\n",
      "worker Exiting\n",
      "Thread-28 Exiting\n"
     ]
    }
   ],
   "source": [
    "t = threading.Thread(name='my_service', target=my_service, args=(2,))\n",
    "w = threading.Thread(name='worker', target=worker, args=(4,))\n",
    "w2 = threading.Thread(target=worker, args=(8,))\n",
    "w.start()\n",
    "w2.start()\n",
    "t.start()"
   ]
  },
  {
   "cell_type": "code",
   "execution_count": null,
   "metadata": {},
   "outputs": [],
   "source": []
  }
 ],
 "metadata": {
  "kernelspec": {
   "display_name": "Python 3",
   "language": "python",
   "name": "python3"
  },
  "language_info": {
   "codemirror_mode": {
    "name": "ipython",
    "version": 3
   },
   "file_extension": ".py",
   "mimetype": "text/x-python",
   "name": "python",
   "nbconvert_exporter": "python",
   "pygments_lexer": "ipython3",
   "version": "3.6.5"
  }
 },
 "nbformat": 4,
 "nbformat_minor": 2
}
